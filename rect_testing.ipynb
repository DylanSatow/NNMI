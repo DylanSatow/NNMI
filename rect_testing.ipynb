{
 "cells": [
  {
   "cell_type": "code",
   "execution_count": 6,
   "metadata": {},
   "outputs": [],
   "source": [
    "%load_ext autoreload\n",
    "%autoreload 2"
   ]
  },
  {
   "cell_type": "code",
   "execution_count": 11,
   "metadata": {},
   "outputs": [],
   "source": [
    "import torch\n",
    "from rect_mi import LineMIComputer"
   ]
  },
  {
   "cell_type": "code",
   "execution_count": 12,
   "metadata": {},
   "outputs": [],
   "source": [
    "n = 100\n",
    "J,m = 20, 1\n",
    "\n",
    "\n",
    "X = torch.randn((n))\n",
    "Y = torch.randn((J,m))\n",
    "\n",
    "# Create c_x tensor to satisfy requirements\n",
    "c_x = torch.randint(1, 15, (J,))\n",
    "c_x = (n * c_x / c_x.sum()).round().int()\n",
    "c_x[-1] = 100 - c_x[:-1].sum()"
   ]
  },
  {
   "cell_type": "code",
   "execution_count": 15,
   "metadata": {},
   "outputs": [
    {
     "data": {
      "text/plain": [
       "torch.Size([20, 20])"
      ]
     },
     "execution_count": 15,
     "metadata": {},
     "output_type": "execute_result"
    }
   ],
   "source": [
    "x_key_inds = torch.repeat_interleave(torch.arange(J), c_x)\n",
    "L = LineMIComputer()\n",
    "L.compute_line_dists(X,x_key_inds,Y).shape"
   ]
  },
  {
   "cell_type": "code",
   "execution_count": null,
   "metadata": {},
   "outputs": [
    {
     "data": {
      "text/plain": [
       "tensor([ True,  True,  True,  True,  True, False, False, False, False, False,\n",
       "        False, False, False, False, False, False,  True,  True,  True,  True,\n",
       "         True, False, False, False, False, False, False, False, False, False,\n",
       "        False, False, False, False, False, False, False, False, False, False,\n",
       "        False, False, False, False, False,  True,  True,  True,  True,  True,\n",
       "         True,  True,  True, False, False, False, False, False, False, False,\n",
       "        False, False, False, False, False, False, False, False, False, False,\n",
       "        False, False, False, False, False, False, False, False, False, False,\n",
       "        False, False, False, False, False, False, False, False, False, False,\n",
       "        False, False, False, False, False, False, False, False, False, False])"
      ]
     },
     "execution_count": 22,
     "metadata": {},
     "output_type": "execute_result"
    }
   ],
   "source": [
    "x_key_inds = torch.repeat_interleave(torch.arange(J), c_x)\n",
    "line_dists = L.compute_line_dists(X, x_key_inds, Y)\n",
    "\n",
    "for jk in range(J):\n",
    "    _, line_neighbors = torch.topk(line_dists[jk], min(3 + 1, J), largest=False)\n",
    "    \n",
    "    neighborhood_points = X[torch.isin(x_key_inds,line_neighbors)]\n",
    "\n",
    "for jk in range(J):\n",
    "    _, line_neighbors = torch.topk(line_dists[jk], min(self.k + 1, J), largest=False)\n",
    "    \n",
    "    x_neighborhood_points_mask = torch.isin(x_key_inds,line_neighbors)\n",
    "    x_neighbors = X[x_neighborhood_points_mask]\n",
    "    x_curr_mask = (x_key_inds == jk)\n",
    "    \n",
    "    # For the current join key (jk), set x_radius to the distance of the k-th closest neighbor\n",
    "    for i in range(n):\n",
    "        if x_curr_mask[i]:\n",
    "            # Find distances to all points in x_neighbors\n",
    "            distances = torch.abs(X[i] - x_neighbors)\n",
    "            # Sort distances and get the k-th closest point (k+1 because the point itself has distance 0)\n",
    "            if distances.shape[0] > self.k:\n",
    "                # Get the k-th closest distance\n",
    "                x_radius[i] = torch.topk(distances, self.k + 1, largest=False)[0][self.k]\n",
    "            else:\n",
    "                # If we have fewer points than k, use the maximum distance\n",
    "                x_radius[i] = distances.max() if distances.shape[0] > 0 else torch.tensor(0.0, device=self.device)\n",
    "torch.isin(x_key_inds, line_neighbors)"
   ]
  },
  {
   "cell_type": "code",
   "execution_count": null,
   "metadata": {},
   "outputs": [
    {
     "data": {
      "text/plain": [
       "tensor([ True,  True,  True,  True, False, False, False, False, False, False])"
      ]
     },
     "execution_count": 17,
     "metadata": {},
     "output_type": "execute_result"
    }
   ],
   "source": [
    "test = torch.tensor([3,3,3,3,2,2,2,1,1,1])\n",
    "test == 3"
   ]
  },
  {
   "cell_type": "code",
   "execution_count": null,
   "metadata": {},
   "outputs": [],
   "source": []
  }
 ],
 "metadata": {
  "kernelspec": {
   "display_name": "base",
   "language": "python",
   "name": "python3"
  },
  "language_info": {
   "codemirror_mode": {
    "name": "ipython",
    "version": 3
   },
   "file_extension": ".py",
   "mimetype": "text/x-python",
   "name": "python",
   "nbconvert_exporter": "python",
   "pygments_lexer": "ipython3",
   "version": "3.12.2"
  }
 },
 "nbformat": 4,
 "nbformat_minor": 2
}
